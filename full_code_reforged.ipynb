{
 "cells": [
  {
   "cell_type": "markdown",
   "id": "4f03faae",
   "metadata": {},
   "source": [
    "### Initialization"
   ]
  },
  {
   "cell_type": "code",
   "execution_count": 1,
   "id": "56231f4d",
   "metadata": {},
   "outputs": [
    {
     "name": "stderr",
     "output_type": "stream",
     "text": [
      "2025-09-12 18:55:03.451733: I tensorflow/core/platform/cpu_feature_guard.cc:210] This TensorFlow binary is optimized to use available CPU instructions in performance-critical operations.\n",
      "To enable the following instructions: AVX2 FMA, in other operations, rebuild TensorFlow with the appropriate compiler flags.\n"
     ]
    }
   ],
   "source": [
    "import rasterio\n",
    "import numpy as np\n",
    "import matplotlib.pyplot as plt\n",
    "import os\n",
    "from scipy.ndimage import uniform_filter\n",
    "import pandas as pd\n",
    "import itables\n",
    "from itables import show\n",
    "import json\n",
    "import time\n",
    "from datetime import datetime, timedelta\n",
    "import math\n",
    "import tensorflow as tf\n",
    "from tensorflow.keras.applications import ResNet50\n",
    "from tensorflow.keras.models import Model\n",
    "from tensorflow.keras.layers import Dense, GlobalAveragePooling2D\n",
    "from tensorflow.keras.optimizers import Adam\n",
    "import ee\n",
    "import geemap\n",
    "import warnings\n",
    "\n",
    "from sklearn.cluster import KMeans, DBSCAN\n",
    "from sklearn.preprocessing import StandardScaler\n",
    "import seaborn as sns\n",
    "\n",
    "from scipy import ndimage\n",
    "from skimage import filters, measure, morphology, segmentation\n",
    "import cv2"
   ]
  },
  {
   "cell_type": "code",
   "execution_count": 2,
   "id": "2e573879",
   "metadata": {},
   "outputs": [
    {
     "data": {
      "text/html": [
       "\n",
       "            <style>\n",
       "                .geemap-dark {\n",
       "                    --jp-widgets-color: white;\n",
       "                    --jp-widgets-label-color: white;\n",
       "                    --jp-ui-font-color1: white;\n",
       "                    --jp-layout-color2: #454545;\n",
       "                    background-color: #383838;\n",
       "                }\n",
       "\n",
       "                .geemap-dark .jupyter-button {\n",
       "                    --jp-layout-color3: #383838;\n",
       "                }\n",
       "\n",
       "                .geemap-colab {\n",
       "                    background-color: var(--colab-primary-surface-color, white);\n",
       "                }\n",
       "\n",
       "                .geemap-colab .jupyter-button {\n",
       "                    --jp-layout-color3: var(--colab-primary-surface-color, white);\n",
       "                }\n",
       "            </style>\n",
       "            "
      ],
      "text/plain": [
       "<IPython.core.display.HTML object>"
      ]
     },
     "metadata": {},
     "output_type": "display_data"
    }
   ],
   "source": [
    "# Custome Modules\n",
    "import custom_lib"
   ]
  },
  {
   "cell_type": "code",
   "execution_count": 3,
   "id": "50a2ed4f",
   "metadata": {},
   "outputs": [
    {
     "data": {
      "text/html": [
       "\n",
       "            <style>\n",
       "                .geemap-dark {\n",
       "                    --jp-widgets-color: white;\n",
       "                    --jp-widgets-label-color: white;\n",
       "                    --jp-ui-font-color1: white;\n",
       "                    --jp-layout-color2: #454545;\n",
       "                    background-color: #383838;\n",
       "                }\n",
       "\n",
       "                .geemap-dark .jupyter-button {\n",
       "                    --jp-layout-color3: #383838;\n",
       "                }\n",
       "\n",
       "                .geemap-colab {\n",
       "                    background-color: var(--colab-primary-surface-color, white);\n",
       "                }\n",
       "\n",
       "                .geemap-colab .jupyter-button {\n",
       "                    --jp-layout-color3: var(--colab-primary-surface-color, white);\n",
       "                }\n",
       "            </style>\n",
       "            "
      ],
      "text/plain": [
       "<IPython.core.display.HTML object>"
      ]
     },
     "metadata": {},
     "output_type": "display_data"
    },
    {
     "name": "stdout",
     "output_type": "stream",
     "text": [
      "TensorFlow version: 2.20.0\n",
      "GPU Available: [PhysicalDevice(name='/physical_device:GPU:0', device_type='GPU')]\n"
     ]
    }
   ],
   "source": [
    "# Check TensorFlow and GPU availability\n",
    "print(\"TensorFlow version:\", tf.__version__)\n",
    "print(\"GPU Available:\", tf.config.list_physical_devices('GPU'))"
   ]
  },
  {
   "cell_type": "markdown",
   "id": "b2df3527",
   "metadata": {},
   "source": [
    "#### Google earth engine authentication"
   ]
  },
  {
   "cell_type": "code",
   "execution_count": 4,
   "id": "e594a541",
   "metadata": {},
   "outputs": [
    {
     "data": {
      "text/html": [
       "\n",
       "            <style>\n",
       "                .geemap-dark {\n",
       "                    --jp-widgets-color: white;\n",
       "                    --jp-widgets-label-color: white;\n",
       "                    --jp-ui-font-color1: white;\n",
       "                    --jp-layout-color2: #454545;\n",
       "                    background-color: #383838;\n",
       "                }\n",
       "\n",
       "                .geemap-dark .jupyter-button {\n",
       "                    --jp-layout-color3: #383838;\n",
       "                }\n",
       "\n",
       "                .geemap-colab {\n",
       "                    background-color: var(--colab-primary-surface-color, white);\n",
       "                }\n",
       "\n",
       "                .geemap-colab .jupyter-button {\n",
       "                    --jp-layout-color3: var(--colab-primary-surface-color, white);\n",
       "                }\n",
       "            </style>\n",
       "            "
      ],
      "text/plain": [
       "<IPython.core.display.HTML object>"
      ]
     },
     "metadata": {},
     "output_type": "display_data"
    },
    {
     "name": "stderr",
     "output_type": "stream",
     "text": [
      "*** Earth Engine *** Share your feedback by taking our Annual Developer Satisfaction Survey: https://google.qualtrics.com/jfe/form/SV_7TDKVSyKvBdmMqW?ref=4i2o6\n"
     ]
    }
   ],
   "source": [
    "# Authenticate and initialize GEE\n",
    "ee.Authenticate(auth_mode='notebook', scopes=[\n",
    "    'https://www.googleapis.com/auth/earthengine',\n",
    "    'https://www.googleapis.com/auth/drive'\n",
    "])\n",
    "ee.Initialize()"
   ]
  },
  {
   "cell_type": "markdown",
   "id": "bdc3eaac",
   "metadata": {},
   "source": [
    "### Declaration of Study Area"
   ]
  },
  {
   "cell_type": "code",
   "execution_count": 5,
   "id": "4d12981a",
   "metadata": {},
   "outputs": [
    {
     "data": {
      "text/html": [
       "\n",
       "            <style>\n",
       "                .geemap-dark {\n",
       "                    --jp-widgets-color: white;\n",
       "                    --jp-widgets-label-color: white;\n",
       "                    --jp-ui-font-color1: white;\n",
       "                    --jp-layout-color2: #454545;\n",
       "                    background-color: #383838;\n",
       "                }\n",
       "\n",
       "                .geemap-dark .jupyter-button {\n",
       "                    --jp-layout-color3: #383838;\n",
       "                }\n",
       "\n",
       "                .geemap-colab {\n",
       "                    background-color: var(--colab-primary-surface-color, white);\n",
       "                }\n",
       "\n",
       "                .geemap-colab .jupyter-button {\n",
       "                    --jp-layout-color3: var(--colab-primary-surface-color, white);\n",
       "                }\n",
       "            </style>\n",
       "            "
      ],
      "text/plain": [
       "<IPython.core.display.HTML object>"
      ]
     },
     "metadata": {},
     "output_type": "display_data"
    }
   ],
   "source": [
    "# Pulau Pari \n",
    "pulau_pari_coords = [\n",
    "    [106.600, -5.840],  # Northeast corner\n",
    "    [106.640, -5.840],  # Southeast corner  \n",
    "    [106.640, -5.875],  # Southwest corner\n",
    "    [106.600, -5.875],  # Northwest corner\n",
    "    [106.600, -5.840]   # Close the polygon\n",
    "]"
   ]
  },
  {
   "cell_type": "markdown",
   "id": "5bffc31a",
   "metadata": {},
   "source": [
    "### Variables that being used for Study"
   ]
  },
  {
   "cell_type": "markdown",
   "id": "23e59362",
   "metadata": {},
   "source": [
    "- Band List Documentation : https://www.usgs.gov/faqs/what-are-band-designations-landsat-satellites\n",
    "- Coppernicus Sentinel-2 bands: https://developers.google.com/earth-engine/datasets/catalog/COPERNICUS_S2_SR_HARMONIZED#bands"
   ]
  },
  {
   "cell_type": "code",
   "execution_count": 6,
   "id": "6bd6b9a0",
   "metadata": {},
   "outputs": [
    {
     "data": {
      "text/html": [
       "\n",
       "            <style>\n",
       "                .geemap-dark {\n",
       "                    --jp-widgets-color: white;\n",
       "                    --jp-widgets-label-color: white;\n",
       "                    --jp-ui-font-color1: white;\n",
       "                    --jp-layout-color2: #454545;\n",
       "                    background-color: #383838;\n",
       "                }\n",
       "\n",
       "                .geemap-dark .jupyter-button {\n",
       "                    --jp-layout-color3: #383838;\n",
       "                }\n",
       "\n",
       "                .geemap-colab {\n",
       "                    background-color: var(--colab-primary-surface-color, white);\n",
       "                }\n",
       "\n",
       "                .geemap-colab .jupyter-button {\n",
       "                    --jp-layout-color3: var(--colab-primary-surface-color, white);\n",
       "                }\n",
       "            </style>\n",
       "            "
      ],
      "text/plain": [
       "<IPython.core.display.HTML object>"
      ]
     },
     "metadata": {},
     "output_type": "display_data"
    }
   ],
   "source": [
    "# Satellite Model Variables\n",
    "optical_satellite_model = 'COPERNICUS/S2_SR_HARMONIZED'\n",
    "\n",
    "    # Best model for sentinel 2 \n",
    "    # COPERNICUS/S2_SR_HARMONIZED\n",
    "    # Can also be used \n",
    "    # 'COPERNICUS/S2_SR'\n",
    "\n",
    "    # Landsat 8 Model currently not yet explored and need to adjust the code\n",
    "    # 'LANDSAT/LC08/C02/T1_L2'\n",
    "    \n",
    "sar_satellite_model = 'COPERNICUS/S1_GRD'\n",
    "    # General Purpose \n",
    "    # 'COPERNICUS/S1_GRD' \n",
    "\n",
    "    # Better for Quantitave analysis\n",
    "    # 'COPERNICUS/S1_GRD_FLOAT'\n",
    "\n",
    "    # Raw SAR 1 Data, \n",
    "    # 'COPERNICUS/S1_SLC'\n",
    "\n",
    "\n",
    "# Range of Satellite for samples\n",
    "recent_date = ['2025-01-01', '2025-12-31']\n",
    "\n",
    "# Cloud Coverage Percentage\n",
    "cloud_coverage = 5\n",
    "zoomed_var = 16"
   ]
  },
  {
   "cell_type": "markdown",
   "id": "42f3801e",
   "metadata": {},
   "source": [
    "### Observed Area"
   ]
  },
  {
   "cell_type": "code",
   "execution_count": 7,
   "id": "55c22953",
   "metadata": {},
   "outputs": [
    {
     "data": {
      "text/html": [
       "\n",
       "            <style>\n",
       "                .geemap-dark {\n",
       "                    --jp-widgets-color: white;\n",
       "                    --jp-widgets-label-color: white;\n",
       "                    --jp-ui-font-color1: white;\n",
       "                    --jp-layout-color2: #454545;\n",
       "                    background-color: #383838;\n",
       "                }\n",
       "\n",
       "                .geemap-dark .jupyter-button {\n",
       "                    --jp-layout-color3: #383838;\n",
       "                }\n",
       "\n",
       "                .geemap-colab {\n",
       "                    background-color: var(--colab-primary-surface-color, white);\n",
       "                }\n",
       "\n",
       "                .geemap-colab .jupyter-button {\n",
       "                    --jp-layout-color3: var(--colab-primary-surface-color, white);\n",
       "                }\n",
       "            </style>\n",
       "            "
      ],
      "text/plain": [
       "<IPython.core.display.HTML object>"
      ]
     },
     "metadata": {},
     "output_type": "display_data"
    },
    {
     "name": "stdout",
     "output_type": "stream",
     "text": [
      "\n",
      " Study area Preview\n",
      "\n",
      " Study area coordinates: [[106.6, -5.84], [106.64, -5.84], [106.64, -5.875], [106.6, -5.875], [106.6, -5.84]]\n",
      "\n",
      " Study area picture date : 2025-01-01 to 2025-12-31\n"
     ]
    },
    {
     "data": {
      "application/vnd.jupyter.widget-view+json": {
       "model_id": "ce78af16ec304eea8f753d69febc2d9c",
       "version_major": 2,
       "version_minor": 0
      },
      "text/plain": [
       "Map(center=[-5.857500171581422, 106.61999999999767], controls=(WidgetControl(options=['position', 'transparent…"
      ]
     },
     "execution_count": 7,
     "metadata": {},
     "output_type": "execute_result"
    }
   ],
   "source": [
    "custom_lib.study_location(pulau_pari_coords, optical_satellite_model, recent_date, cloud_coverage, zoomed_var)"
   ]
  },
  {
   "cell_type": "markdown",
   "id": "7020ed0e",
   "metadata": {},
   "source": [
    "### Check the data availability"
   ]
  },
  {
   "cell_type": "code",
   "execution_count": 8,
   "id": "d5258917",
   "metadata": {},
   "outputs": [
    {
     "data": {
      "text/html": [
       "\n",
       "            <style>\n",
       "                .geemap-dark {\n",
       "                    --jp-widgets-color: white;\n",
       "                    --jp-widgets-label-color: white;\n",
       "                    --jp-ui-font-color1: white;\n",
       "                    --jp-layout-color2: #454545;\n",
       "                    background-color: #383838;\n",
       "                }\n",
       "\n",
       "                .geemap-dark .jupyter-button {\n",
       "                    --jp-layout-color3: #383838;\n",
       "                }\n",
       "\n",
       "                .geemap-colab {\n",
       "                    background-color: var(--colab-primary-surface-color, white);\n",
       "                }\n",
       "\n",
       "                .geemap-colab .jupyter-button {\n",
       "                    --jp-layout-color3: var(--colab-primary-surface-color, white);\n",
       "                }\n",
       "            </style>\n",
       "            "
      ],
      "text/plain": [
       "<IPython.core.display.HTML object>"
      ]
     },
     "metadata": {},
     "output_type": "display_data"
    },
    {
     "name": "stdout",
     "output_type": "stream",
     "text": [
      "Checking  COPERNICUS/S1_GRD 's Data availability\n",
      "Full date range: 2014-10-12 to 2025-09-08\n",
      "Total years available: 10.9 years\n",
      "\n",
      "Data Availability by Year:\n",
      "2014:   4 images | Polrization Type: ['VV'] | Orbits: ['ASCENDING']\n",
      "2015:  14 images | Polrization Type: ['VH', 'VV'] | Orbits: ['DESCENDING', 'ASCENDING']\n",
      "2016:  26 images | Polrization Type: ['VH', 'VV'] | Orbits: ['DESCENDING', 'ASCENDING']\n",
      "2017:  55 images | Polrization Type: ['VH', 'VV'] | Orbits: ['DESCENDING', 'ASCENDING']\n",
      "2018:  58 images | Polrization Type: ['VH', 'VV'] | Orbits: ['DESCENDING', 'ASCENDING']\n",
      "2019:  57 images | Polrization Type: ['VH', 'VV'] | Orbits: ['ASCENDING', 'DESCENDING']\n",
      "2020:  49 images | Polrization Type: ['VH', 'VV'] | Orbits: ['ASCENDING', 'DESCENDING']\n",
      "2021:  46 images | Polrization Type: ['VH', 'VV'] | Orbits: ['DESCENDING', 'ASCENDING']\n",
      "2022:  52 images | Polrization Type: ['VH', 'VV'] | Orbits: ['ASCENDING', 'DESCENDING']\n",
      "2023:  39 images | Polrization Type: ['VH', 'VV'] | Orbits: ['DESCENDING', 'ASCENDING']\n",
      "2024:  34 images | Polrization Type: ['VH', 'VV'] | Orbits: ['ASCENDING', 'DESCENDING']\n",
      "2025:  26 images | Polrization Type: ['VH', 'VV'] | Orbits: ['ASCENDING', 'DESCENDING']\n"
     ]
    }
   ],
   "source": [
    "sar_yearly_summary = custom_lib.check_sar_data_availability ( pulau_pari_coords, sar_satellite_model )"
   ]
  },
  {
   "cell_type": "code",
   "execution_count": 9,
   "id": "c2149531",
   "metadata": {},
   "outputs": [
    {
     "data": {
      "text/html": [
       "\n",
       "            <style>\n",
       "                .geemap-dark {\n",
       "                    --jp-widgets-color: white;\n",
       "                    --jp-widgets-label-color: white;\n",
       "                    --jp-ui-font-color1: white;\n",
       "                    --jp-layout-color2: #454545;\n",
       "                    background-color: #383838;\n",
       "                }\n",
       "\n",
       "                .geemap-dark .jupyter-button {\n",
       "                    --jp-layout-color3: #383838;\n",
       "                }\n",
       "\n",
       "                .geemap-colab {\n",
       "                    background-color: var(--colab-primary-surface-color, white);\n",
       "                }\n",
       "\n",
       "                .geemap-colab .jupyter-button {\n",
       "                    --jp-layout-color3: var(--colab-primary-surface-color, white);\n",
       "                }\n",
       "            </style>\n",
       "            "
      ],
      "text/plain": [
       "<IPython.core.display.HTML object>"
      ]
     },
     "metadata": {},
     "output_type": "display_data"
    },
    {
     "data": {
      "text/plain": [
       "[{'year': 2014, 'count': 4, 'polarizations': ['VV'], 'orbits': ['ASCENDING']},\n",
       " {'year': 2015,\n",
       "  'count': 14,\n",
       "  'polarizations': ['VH', 'VV'],\n",
       "  'orbits': ['DESCENDING', 'ASCENDING']},\n",
       " {'year': 2016,\n",
       "  'count': 26,\n",
       "  'polarizations': ['VH', 'VV'],\n",
       "  'orbits': ['DESCENDING', 'ASCENDING']},\n",
       " {'year': 2017,\n",
       "  'count': 55,\n",
       "  'polarizations': ['VH', 'VV'],\n",
       "  'orbits': ['DESCENDING', 'ASCENDING']},\n",
       " {'year': 2018,\n",
       "  'count': 58,\n",
       "  'polarizations': ['VH', 'VV'],\n",
       "  'orbits': ['DESCENDING', 'ASCENDING']},\n",
       " {'year': 2019,\n",
       "  'count': 57,\n",
       "  'polarizations': ['VH', 'VV'],\n",
       "  'orbits': ['ASCENDING', 'DESCENDING']},\n",
       " {'year': 2020,\n",
       "  'count': 49,\n",
       "  'polarizations': ['VH', 'VV'],\n",
       "  'orbits': ['ASCENDING', 'DESCENDING']},\n",
       " {'year': 2021,\n",
       "  'count': 46,\n",
       "  'polarizations': ['VH', 'VV'],\n",
       "  'orbits': ['DESCENDING', 'ASCENDING']},\n",
       " {'year': 2022,\n",
       "  'count': 52,\n",
       "  'polarizations': ['VH', 'VV'],\n",
       "  'orbits': ['ASCENDING', 'DESCENDING']},\n",
       " {'year': 2023,\n",
       "  'count': 39,\n",
       "  'polarizations': ['VH', 'VV'],\n",
       "  'orbits': ['DESCENDING', 'ASCENDING']},\n",
       " {'year': 2024,\n",
       "  'count': 34,\n",
       "  'polarizations': ['VH', 'VV'],\n",
       "  'orbits': ['ASCENDING', 'DESCENDING']},\n",
       " {'year': 2025,\n",
       "  'count': 26,\n",
       "  'polarizations': ['VH', 'VV'],\n",
       "  'orbits': ['ASCENDING', 'DESCENDING']}]"
      ]
     },
     "execution_count": 9,
     "metadata": {},
     "output_type": "execute_result"
    }
   ],
   "source": [
    "sar_yearly_summary"
   ]
  },
  {
   "cell_type": "code",
   "execution_count": 10,
   "id": "673c9310",
   "metadata": {},
   "outputs": [
    {
     "data": {
      "text/html": [
       "\n",
       "            <style>\n",
       "                .geemap-dark {\n",
       "                    --jp-widgets-color: white;\n",
       "                    --jp-widgets-label-color: white;\n",
       "                    --jp-ui-font-color1: white;\n",
       "                    --jp-layout-color2: #454545;\n",
       "                    background-color: #383838;\n",
       "                }\n",
       "\n",
       "                .geemap-dark .jupyter-button {\n",
       "                    --jp-layout-color3: #383838;\n",
       "                }\n",
       "\n",
       "                .geemap-colab {\n",
       "                    background-color: var(--colab-primary-surface-color, white);\n",
       "                }\n",
       "\n",
       "                .geemap-colab .jupyter-button {\n",
       "                    --jp-layout-color3: var(--colab-primary-surface-color, white);\n",
       "                }\n",
       "            </style>\n",
       "            "
      ],
      "text/plain": [
       "<IPython.core.display.HTML object>"
      ]
     },
     "metadata": {},
     "output_type": "display_data"
    },
    {
     "name": "stdout",
     "output_type": "stream",
     "text": [
      "\n",
      "Checking COPERNICUS/S2_SR_HARMONIZED's Optical Data Availability\n",
      "Full date range: 2018-04-20 to 2025-09-10\n",
      "Total years available: 7.4 years\n",
      "\n",
      "Cloud Coverage Analysis:\n",
      "Images with <10% clouds: 34\n",
      "Images with <20% clouds: 78\n",
      "Images with <30% clouds: 112\n",
      "Images with <50% clouds: 178\n",
      "\n",
      "Seasonal Availability (<20% clouds):\n",
      "Collecting all images by month\n",
      "   Full month 2019-04-01 to 2019-04-30: 1 images\n",
      "   Full month 2019-05-01 to 2019-05-31: 3 images\n",
      "   Full month 2019-06-01 to 2019-06-30: 3 images\n",
      "   Full month 2019-07-01 to 2019-07-31: 1 images\n",
      "   Full month 2019-08-01 to 2019-08-31: 4 images\n",
      "   Full month 2019-09-01 to 2019-09-30: 2 images\n",
      "   Full month 2019-10-01 to 2019-10-31: 1 images\n",
      "   Full month 2019-11-01 to 2019-11-30: 1 images\n",
      "   Full month 2019-12-01 to 2019-12-31: 1 images\n",
      "   Full month 2020-05-01 to 2020-05-31: 2 images\n",
      "   Full month 2020-06-01 to 2020-06-30: 2 images\n",
      "   Full month 2020-07-01 to 2020-07-31: 2 images\n",
      "   Full month 2020-08-01 to 2020-08-31: 4 images\n",
      "   Full month 2020-09-01 to 2020-09-30: 1 images\n",
      "   Full month 2021-04-01 to 2021-04-30: 3 images\n",
      "   Full month 2021-06-01 to 2021-06-30: 1 images\n",
      "   Full month 2021-07-01 to 2021-07-31: 2 images\n",
      "   Full month 2021-08-01 to 2021-08-31: 3 images\n",
      "   Full month 2021-09-01 to 2021-09-30: 1 images\n",
      "   Full month 2022-04-01 to 2022-04-30: 1 images\n",
      "   Full month 2022-07-01 to 2022-07-31: 1 images\n",
      "   Full month 2023-04-01 to 2023-04-30: 1 images\n",
      "   Full month 2023-07-01 to 2023-07-31: 3 images\n",
      "   Full month 2023-08-01 to 2023-08-31: 3 images\n",
      "   Full month 2023-09-01 to 2023-09-30: 5 images\n",
      "   Full month 2023-10-01 to 2023-10-31: 4 images\n",
      "   Full month 2023-12-01 to 2023-12-31: 1 images\n",
      "   Full month 2024-03-01 to 2024-03-31: 1 images\n",
      "   Full month 2024-05-01 to 2024-05-31: 1 images\n",
      "   Full month 2024-07-01 to 2024-07-31: 2 images\n",
      "   Full month 2024-08-01 to 2024-08-31: 5 images\n",
      "   Full month 2024-09-01 to 2024-09-30: 1 images\n",
      "   Full month 2024-10-01 to 2024-10-31: 1 images\n",
      "   Full month 2025-05-01 to 2025-05-31: 1 images\n",
      "   Full month 2025-06-01 to 2025-06-30: 1 images\n",
      "   Full month 2025-07-01 to 2025-07-31: 4 images\n",
      "   Full month 2025-08-01 to 2025-08-31: 4 images\n",
      "\n",
      "Dry Season (May-Oct):\n",
      "2018: 0 clear images\n",
      "2019: 14 clear images\n",
      "2020: 11 clear images\n",
      "2021: 7 clear images\n",
      "2022: 1 clear images\n",
      "2023: 15 clear images\n",
      "2024: 10 clear images\n",
      "2025: 10 clear images\n",
      "Total for Dry Season (May-Oct): 68 images\n",
      "\n",
      "Wet Season (Nov-Apr):\n",
      "2018: 1 clear images\n",
      "2019: 2 clear images\n",
      "2020: 3 clear images\n",
      "2021: 1 clear images\n",
      "2022: 1 clear images\n",
      "2023: 2 clear images\n",
      "2024: 0 clear images\n",
      "2025: 0 clear images\n",
      "Total for Wet Season (Nov-Apr): 10 images\n",
      "\n",
      " DETAILED YEAR-BY-YEAR BREAKDOWN:\n",
      "\n",
      "============================================================\n",
      "YEARLY SUMMARY (<20% clouds)\n",
      "============================================================\n",
      "Year   Dry Season   Wet Season   Total   \n",
      "----------------------------------------\n",
      "2018   0            1            0       \n",
      "2019   14           2            17      \n",
      "2020   11           3            11      \n",
      "2021   7            1            10      \n",
      "2022   1            1            2       \n",
      "2023   15           2            17      \n",
      "2024   10           0            11      \n",
      "2025   10           0            10      \n"
     ]
    }
   ],
   "source": [
    "optical_yearly_summary = custom_lib.check_optical_data_availability ( pulau_pari_coords, optical_satellite_model )"
   ]
  },
  {
   "cell_type": "code",
   "execution_count": 11,
   "id": "5cdffb0b",
   "metadata": {},
   "outputs": [
    {
     "data": {
      "text/html": [
       "\n",
       "            <style>\n",
       "                .geemap-dark {\n",
       "                    --jp-widgets-color: white;\n",
       "                    --jp-widgets-label-color: white;\n",
       "                    --jp-ui-font-color1: white;\n",
       "                    --jp-layout-color2: #454545;\n",
       "                    background-color: #383838;\n",
       "                }\n",
       "\n",
       "                .geemap-dark .jupyter-button {\n",
       "                    --jp-layout-color3: #383838;\n",
       "                }\n",
       "\n",
       "                .geemap-colab {\n",
       "                    background-color: var(--colab-primary-surface-color, white);\n",
       "                }\n",
       "\n",
       "                .geemap-colab .jupyter-button {\n",
       "                    --jp-layout-color3: var(--colab-primary-surface-color, white);\n",
       "                }\n",
       "            </style>\n",
       "            "
      ],
      "text/plain": [
       "<IPython.core.display.HTML object>"
      ]
     },
     "metadata": {},
     "output_type": "display_data"
    },
    {
     "data": {
      "text/plain": [
       "[{'year': 2018, 'dry_season_count': 0, 'wet_season_count': 1, 'count': 0},\n",
       " {'year': 2019, 'dry_season_count': 14, 'wet_season_count': 2, 'count': 17},\n",
       " {'year': 2020, 'dry_season_count': 11, 'wet_season_count': 3, 'count': 11},\n",
       " {'year': 2021, 'dry_season_count': 7, 'wet_season_count': 1, 'count': 10},\n",
       " {'year': 2022, 'dry_season_count': 1, 'wet_season_count': 1, 'count': 2},\n",
       " {'year': 2023, 'dry_season_count': 15, 'wet_season_count': 2, 'count': 17},\n",
       " {'year': 2024, 'dry_season_count': 10, 'wet_season_count': 0, 'count': 11},\n",
       " {'year': 2025, 'dry_season_count': 10, 'wet_season_count': 0, 'count': 10}]"
      ]
     },
     "execution_count": 11,
     "metadata": {},
     "output_type": "execute_result"
    }
   ],
   "source": [
    "optical_yearly_summary"
   ]
  },
  {
   "cell_type": "markdown",
   "id": "72a817a8",
   "metadata": {},
   "source": [
    "### Analysis Plan Framework\n",
    "- Clouds on 20% Threshold \n",
    "- Recent Data will be used ( 2025 vs 2019 ) in the same periods or full year ( 2024 vs 2019 ) or last 3 years changes."
   ]
  },
  {
   "cell_type": "code",
   "execution_count": null,
   "id": "56870aee",
   "metadata": {},
   "outputs": [
    {
     "data": {
      "text/html": [
       "\n",
       "            <style>\n",
       "                .geemap-dark {\n",
       "                    --jp-widgets-color: white;\n",
       "                    --jp-widgets-label-color: white;\n",
       "                    --jp-ui-font-color1: white;\n",
       "                    --jp-layout-color2: #454545;\n",
       "                    background-color: #383838;\n",
       "                }\n",
       "\n",
       "                .geemap-dark .jupyter-button {\n",
       "                    --jp-layout-color3: #383838;\n",
       "                }\n",
       "\n",
       "                .geemap-colab {\n",
       "                    background-color: var(--colab-primary-surface-color, white);\n",
       "                }\n",
       "\n",
       "                .geemap-colab .jupyter-button {\n",
       "                    --jp-layout-color3: var(--colab-primary-surface-color, white);\n",
       "                }\n",
       "            </style>\n",
       "            "
      ],
      "text/plain": [
       "<IPython.core.display.HTML object>"
      ]
     },
     "metadata": {},
     "output_type": "display_data"
    }
   ],
   "source": [
    "def setting_up_analysis_periods( sar_yearly_stats , optical_yearly_stats, baseline_year = None, current_year = None , use_pairing = False, custom_filter = None): \n",
    "    default_filters = {\n",
    "        # SAR Images Thresholds\n",
    "        'min_sar_images': 40\n",
    "        # Optical Images Thresholds\n",
    "        , 'min_optical_images': 5\n",
    "        # Pairing Thresholds\n",
    "        , 'require_data_pairing': use_pairing\n",
    "        # Minimum Paired Images\n",
    "        , 'min_paired_images' : 3\n",
    "        # Date Tolerance in Days for Pairing\n",
    "        , 'date_tolerance_days': 3\n",
    "        # Use the Recent Years More Preferentially\n",
    "        , 'prefer_recent_years' : True \n",
    "        # Set the the intermediate years to be at least 3 years apart\n",
    "        , 'min_years_of_intermediate' : 3\n",
    "    }\n",
    "\n",
    "    # Override the custom filters if provided  \n",
    "    if custom_filter:\n",
    "        default_filters.update(custom_filter)\n",
    "    \n",
    "    # Extraction Configuration \n",
    "    print(f\"\\nConfiguration:\")\n",
    "    print(f\"Pairing Mode: {'STRICT (Paired data required)' if use_pairing else 'HYBRID (All data used)'}\")\n",
    "    print(f\"Min SAR Images: {default_filters['min_sar_images']}\")\n",
    "    print(f\"Min Optical Images: {default_filters['min_optical_images']}\")\n",
    "    if use_pairing:\n",
    "        print(f\"Min Paired Images: {default_filters['min_paired_images']}\")\n",
    "    print(f\"Date Tolerance: {default_filters['date_tolerance_days']} days\\n\")\n",
    "\n",
    "    # Optical Image dictionary \n",
    "    optical_dict = {year['year'] : year for year in optical_yearly_stats}\n",
    "\n",
    "    # Evaluate the good Years and All years \n",
    "    all_years_data = []\n",
    "    good_years_data = []\n",
    "\n",
    "    for sar_year in sar_yearly_stats:\n",
    "        year_num = sar_year['year']\n",
    "        sar_count = sar_year['count'] \n",
    "\n",
    "        # print(sar_count)\n",
    "\n",
    "        # Firstly check if the year exists in optical data\n",
    "        if year_num not in optical_dict:\n",
    "            print(f\"{year_num} : No optical data available\")\n",
    "            continue\n",
    "        \n",
    "        optical_count = optical_dict[year_num]['count']\n",
    "\n",
    "        # Calculate the paired images \n",
    "        paired_count = min(sar_count, optical_count) if use_pairing else 0\n",
    "\n",
    "        # Apply the filtering criteria \n",
    "        sar_pass = sar_count >= default_filters['min_sar_images'] \n",
    "        optical_pass = optical_count >= default_filters['min_optical_images']\n",
    "        pairing_pass = paired_count >= default_filters['min_paired_images'] if use_pairing else True\n",
    "    \n",
    "        # Create combined data entry \n",
    "        year_data = {\n",
    "            'year': year_num\n",
    "            , 'sar_data' : sar_year \n",
    "            , 'optical_data' : optical_dict[year_num]\n",
    "            , 'sar_count' : sar_count\n",
    "            , 'optical_count' : optical_count\n",
    "            , 'paired_count' : paired_count\n",
    "            , 'total_count' : sar_count + optical_count\n",
    "            , 'passed_sar_filter' : sar_pass\n",
    "            , 'passed_optical_filter' : optical_pass\n",
    "            , 'passes_pairing_filter' : pairing_pass\n",
    "            , 'passes_all_filters' : sar_pass and optical_pass and pairing_pass\n",
    "        }\n",
    "\n",
    "        all_years_data.append(year_data) \n",
    "\n",
    "        # Display evaluation results \n",
    "        if year_data['passes_all_filters']:\n",
    "            if use_pairing:\n",
    "                print(f\"{year_num} : PASS (SAR: {sar_count}, Optical: {optical_count}, Paired: {paired_count})\")\n",
    "            else: \n",
    "                print(f\"{year_num} : PASS (SAR: {sar_count}, Optical: {optical_count})\")\n",
    "            good_years_data.append(year_data) \n",
    "        else:\n",
    "            fail_reasons = []\n",
    "            if not sar_pass:\n",
    "                fail_reasons.append(f\"SAR images ({sar_count} < {default_filters['min_sar_images']})\")\n",
    "            if not optical_pass:\n",
    "                fail_reasons.append(f\"Optical images ({optical_count} < {default_filters['min_optical_images']})\")\n",
    "            if use_pairing and not pairing_pass:\n",
    "                fail_reasons.append(f\"Paired images ({paired_count} < {default_filters['min_paired_images']})\")\n",
    "            print(f\"{year_num} : FAIL ({', '.join(fail_reasons)})\")\n",
    "\n",
    "        # Relaxation Criteria if there are no good years in previous method \n",
    "    if len(good_years_data) == 0 : \n",
    "        print(\"\\nNo good years found with current criteria. Relaxed the criteria\\n\")\n",
    "        relaxed_filters = (\n",
    "            'min_sar_images' : 20\n",
    "            , 'min_optical_images' : 3\n",
    "            , 'min_paired_images' : 2\n",
    "        )\n",
    "\n",
    "\n",
    "    print(f\"\\nFound {len(good_years_data)} good years out of {len(all_years_data)} total years.\")    \n",
    "\n"
   ]
  },
  {
   "cell_type": "code",
   "execution_count": 70,
   "id": "61b833cf",
   "metadata": {},
   "outputs": [
    {
     "data": {
      "text/html": [
       "\n",
       "            <style>\n",
       "                .geemap-dark {\n",
       "                    --jp-widgets-color: white;\n",
       "                    --jp-widgets-label-color: white;\n",
       "                    --jp-ui-font-color1: white;\n",
       "                    --jp-layout-color2: #454545;\n",
       "                    background-color: #383838;\n",
       "                }\n",
       "\n",
       "                .geemap-dark .jupyter-button {\n",
       "                    --jp-layout-color3: #383838;\n",
       "                }\n",
       "\n",
       "                .geemap-colab {\n",
       "                    background-color: var(--colab-primary-surface-color, white);\n",
       "                }\n",
       "\n",
       "                .geemap-colab .jupyter-button {\n",
       "                    --jp-layout-color3: var(--colab-primary-surface-color, white);\n",
       "                }\n",
       "            </style>\n",
       "            "
      ],
      "text/plain": [
       "<IPython.core.display.HTML object>"
      ]
     },
     "metadata": {},
     "output_type": "display_data"
    },
    {
     "name": "stdout",
     "output_type": "stream",
     "text": [
      "\n",
      "Configuration:\n",
      "Pairing Mode: HYBRID (All data used)\n",
      "Min SAR Images: 40\n",
      "Min Optical Images: 5\n",
      "Date Tolerance: 3 days\n",
      "\n",
      "2014 : No optical data available\n",
      "2015 : No optical data available\n",
      "2016 : No optical data available\n",
      "2017 : No optical data available\n",
      "2018 : FAIL (Optical images (0 < 5))\n",
      "2019 : PASS (SAR: 57, Optical: 17)\n",
      "2020 : PASS (SAR: 49, Optical: 11)\n",
      "2021 : PASS (SAR: 46, Optical: 10)\n",
      "2022 : FAIL (Optical images (2 < 5))\n",
      "2023 : FAIL (SAR images (39 < 40))\n",
      "2024 : FAIL (SAR images (34 < 40))\n",
      "2025 : FAIL (SAR images (26 < 40))\n",
      "\n",
      "Found 3 good years out of 8 total years.\n"
     ]
    }
   ],
   "source": [
    "# Basic usage with your existing variables\n",
    "setting_up_analysis_periods(\n",
    "    sar_yearly_summary, \n",
    "    optical_yearly_summary\n",
    ")"
   ]
  },
  {
   "cell_type": "code",
   "execution_count": null,
   "id": "eb720c8a",
   "metadata": {},
   "outputs": [
    {
     "data": {
      "text/html": [
       "\n",
       "            <style>\n",
       "                .geemap-dark {\n",
       "                    --jp-widgets-color: white;\n",
       "                    --jp-widgets-label-color: white;\n",
       "                    --jp-ui-font-color1: white;\n",
       "                    --jp-layout-color2: #454545;\n",
       "                    background-color: #383838;\n",
       "                }\n",
       "\n",
       "                .geemap-dark .jupyter-button {\n",
       "                    --jp-layout-color3: #383838;\n",
       "                }\n",
       "\n",
       "                .geemap-colab {\n",
       "                    background-color: var(--colab-primary-surface-color, white);\n",
       "                }\n",
       "\n",
       "                .geemap-colab .jupyter-button {\n",
       "                    --jp-layout-color3: var(--colab-primary-surface-color, white);\n",
       "                }\n",
       "            </style>\n",
       "            "
      ],
      "text/plain": [
       "<IPython.core.display.HTML object>"
      ]
     },
     "metadata": {},
     "output_type": "display_data"
    }
   ],
   "source": [
    "def setting_up_analysis_periods_testing(sar_yearly_stats, optical_yearly_stats, baseline_year=None, current_year=None, use_pairing=False, custom_filters=None):\n",
    "    default_filters = {\n",
    "        # SAR Images Thresholds\n",
    "        'min_sar_images': 40\n",
    "        # Optical Images Thresholds\n",
    "        , 'min_optical_images': 5\n",
    "        # Pairing Thresholds\n",
    "        , 'require_data_pairing': use_pairing\n",
    "        # Minimum Paired Images\n",
    "        , 'min_paired_images' : 3\n",
    "        # Date Tolerance in Days for Pairing\n",
    "        , 'date_tolerance_days': 7\n",
    "        # Use the Recent Years More Preferentially\n",
    "        , 'prefer_recent_years' : True \n",
    "        # Set the the intermediate years to be at least 3 years apart\n",
    "        , 'min_years_of_intermediate' : 3\n",
    "    }\n",
    "    \n",
    "    # Override with custom filters if provided\n",
    "    if custom_filters:\n",
    "        default_filters.update(custom_filters)\n",
    "    \n",
    "    print(f\"\\nConfiguration:\")\n",
    "    print(f\"  Pairing Mode: {'STRICT (Paired data required)' if use_pairing else 'HYBRID (All data used)'}\")\n",
    "    print(f\"  Min SAR Images: {default_filters['min_sar_images']}\")\n",
    "    print(f\"  Min Optical Images: {default_filters['min_optical_images']}\")\n",
    "    if use_pairing:\n",
    "        print(f\"  Min Paired Images: {default_filters['min_paired_images']}\")\n",
    "    print(f\"  Date Tolerance: ±{default_filters['date_tolerance_days']} days\")\n",
    "    \n",
    "    # Create optical lookup dictionary\n",
    "    optical_dict = {year['year']: year for year in optical_yearly_stats}\n",
    "    \n",
    "    print(f\"\\nAvailable Years:\")\n",
    "    print(f\"  SAR: {[year['year'] for year in sar_yearly_stats]}\")\n",
    "    print(f\"  Optical: {[year['year'] for year in optical_yearly_stats]}\")\n",
    "    \n",
    "    # Evaluate each year\n",
    "    all_years_data = []\n",
    "    good_years = []\n",
    "    \n",
    "    print(f\"\\nEvaluating Years:\")\n",
    "    for sar_year in sar_yearly_stats:\n",
    "        year_num = sar_year['year']\n",
    "        sar_count = sar_year['count']\n",
    "        \n",
    "        # Check if optical data exists\n",
    "        if year_num not in optical_dict:\n",
    "            print(f\"  {year_num}: ❌ No optical data available\")\n",
    "            continue\n",
    "            \n",
    "        optical_count = optical_dict[year_num]['count']\n",
    "        \n",
    "        # Calculate paired images (simplified - use minimum for now)\n",
    "        paired_count = min(sar_count, optical_count) if use_pairing else 0\n",
    "        \n",
    "        # Apply filters\n",
    "        sar_ok = sar_count >= default_filters['min_sar_images']\n",
    "        optical_ok = optical_count >= default_filters['min_optical_images']\n",
    "        paired_ok = paired_count >= default_filters['min_paired_images'] if use_pairing else True\n",
    "        \n",
    "        # Create year data entry\n",
    "        year_data = {\n",
    "            'year': year_num,\n",
    "            'sar_data': sar_year,\n",
    "            'optical_data': optical_dict[year_num],\n",
    "            'sar_count': sar_count,\n",
    "            'optical_count': optical_count,\n",
    "            'paired_count': paired_count,\n",
    "            'total_images': sar_count + optical_count,\n",
    "            'passes_sar_filter': sar_ok,\n",
    "            'passes_optical_filter': optical_ok,\n",
    "            'passes_paired_filter': paired_ok,\n",
    "            'passes_all_filters': sar_ok and optical_ok and paired_ok\n",
    "        }\n",
    "        \n",
    "        all_years_data.append(year_data)\n",
    "        \n",
    "        # Display evaluation results\n",
    "        if year_data['passes_all_filters']:\n",
    "            if use_pairing:\n",
    "                print(f\"  {year_num}: ✅ SAR={sar_count}, Optical={optical_count}, Paired={paired_count}\")\n",
    "            else:\n",
    "                print(f\"  {year_num}: ✅ SAR={sar_count}, Optical={optical_count}\")\n",
    "            good_years.append(year_data)\n",
    "        else:\n",
    "            reasons = []\n",
    "            if not sar_ok:\n",
    "                reasons.append(f\"SAR={sar_count}<{default_filters['min_sar_images']}\")\n",
    "            if not optical_ok:\n",
    "                reasons.append(f\"Optical={optical_count}<{default_filters['min_optical_images']}\")\n",
    "            if use_pairing and not paired_ok:\n",
    "                reasons.append(f\"Paired={paired_count}<{default_filters['min_paired_images']}\")\n",
    "            print(f\"  {year_num}: ❌ {', '.join(reasons)}\")\n",
    "    \n",
    "    print(f\"\\nFound {len(good_years)} years meeting criteria\")"
   ]
  },
  {
   "cell_type": "code",
   "execution_count": null,
   "id": "263f1e47",
   "metadata": {},
   "outputs": [],
   "source": []
  }
 ],
 "metadata": {
  "kernelspec": {
   "display_name": "recent_linux",
   "language": "python",
   "name": "python3"
  },
  "language_info": {
   "codemirror_mode": {
    "name": "ipython",
    "version": 3
   },
   "file_extension": ".py",
   "mimetype": "text/x-python",
   "name": "python",
   "nbconvert_exporter": "python",
   "pygments_lexer": "ipython3",
   "version": "3.11.13"
  }
 },
 "nbformat": 4,
 "nbformat_minor": 5
}
